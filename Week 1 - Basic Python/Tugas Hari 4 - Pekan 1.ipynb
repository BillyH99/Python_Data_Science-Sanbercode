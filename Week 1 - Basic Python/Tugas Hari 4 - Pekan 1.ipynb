{
  "cells": [
    {
      "cell_type": "markdown",
      "metadata": {
        "id": "a9HYUdCUsrKl"
      },
      "source": [
        "<h2>Soal 1: Comparison Operator</h2>\n",
        "\n",
        "- Berikan contoh comparison dari tipe data string\n",
        "- Berikan contoh comparison dari tipe data boolean\n",
        "- Berikan contoh comparison dari tipe data integer"
      ]
    },
    {
      "cell_type": "code",
      "execution_count": 1,
      "metadata": {
        "id": "fUFkFOt0afUL"
      },
      "outputs": [
        {
          "name": "stdout",
          "output_type": "stream",
          "text": [
            "False\n",
            "False\n",
            "True\n",
            "False\n",
            "True\n",
            "True\n"
          ]
        }
      ],
      "source": [
        "#contoh comparison tipe data string\n",
        "print('Ayam'=='Sapi')\n",
        "#contoh comparison tipe data boolean\n",
        "x = 5\n",
        "y = 6\n",
        "print(x ==y) #False\n",
        "print(x <y) #True\n",
        "print(x>y) #False\n",
        "print(x!=y) #True\n",
        "\n",
        "#contoh comparison tipe data integer\n",
        "print(50>=50)"
      ]
    },
    {
      "cell_type": "markdown",
      "metadata": {
        "id": "XeywALwwhZn7"
      },
      "source": [
        "\n",
        "\n",
        "---\n",
        "\n",
        "\n",
        "\n",
        "---\n",
        "\n"
      ]
    },
    {
      "cell_type": "markdown",
      "metadata": {
        "id": "IbNoZvVssrK5"
      },
      "source": [
        "<h2>Soal 2: Boolean Comparison</h2>\n",
        "\n",
        "- Berikan contoh gabungan multiple comparison menggunkan Boolean Comparisin 'and'\n",
        "- Berikan contoh gabungan multiple comparison menggunkan Boolean Comparisin 'or'\n",
        "- Berikan contoh gabungan multiple comparison menggunkan Boolean Comparisin 'not'"
      ]
    },
    {
      "cell_type": "code",
      "execution_count": 2,
      "metadata": {
        "id": "M1mwGoegaiET"
      },
      "outputs": [
        {
          "name": "stdout",
          "output_type": "stream",
          "text": [
            "False\n",
            "False\n",
            "True\n"
          ]
        }
      ],
      "source": [
        "x = 3; y = 9\n",
        "# Comparison AND\n",
        "print(x<y and x>y)\n",
        "\n",
        "# Comparison OR\n",
        "print(x<y and x>y)\n",
        "\n",
        "# Comparison NOT\n",
        "print(not(x==y))"
      ]
    },
    {
      "cell_type": "markdown",
      "metadata": {
        "id": "Y3ejsyvqhciI"
      },
      "source": [
        "\n",
        "\n",
        "---\n",
        "\n",
        "\n",
        "\n",
        "---\n",
        "\n"
      ]
    },
    {
      "cell_type": "markdown",
      "metadata": {
        "id": "Yp_g_sPMsrLH"
      },
      "source": [
        "<h2>Soal 3: If-Else Statement</h2>\n",
        "\n",
        "Lengkapi kode untuk menghasilkan suatu output yang di harapkan\n",
        "\n",
        "- Bualah sebuah if-else statement yang dimana akan mem-print 'High' jika grade adalah 'A' dan price lebih dari 100000, kemudian mem-print 'Medium' jika grade adalah 'A' dan price lebih dari 50000 dan memprint 'low' jika grade adalah 'A' dan price lebih kecil dan sama dengan 50000."
      ]
    },
    {
      "cell_type": "code",
      "execution_count": 7,
      "metadata": {
        "id": "2PPsaN50c9ew"
      },
      "outputs": [
        {
          "name": "stdout",
          "output_type": "stream",
          "text": [
            "High\n"
          ]
        }
      ],
      "source": [
        "#code here\n",
        "grade = str(input('Grade = ')) # A\n",
        "price = int(input('Harga = ')) # 150000\n",
        "\n",
        "if grade == 'A' and price > 100000:\n",
        "    print('High')\n",
        "elif grade == 'A' and price > 50000:\n",
        "    print('Medium')\n",
        "elif grade == 'A' and price <= 50000:\n",
        "    print('Low')"
      ]
    },
    {
      "cell_type": "markdown",
      "metadata": {
        "id": "FkSxKlMNhfzn"
      },
      "source": [
        "\n",
        "\n",
        "---\n",
        "\n",
        "\n",
        "\n",
        "---\n",
        "\n"
      ]
    },
    {
      "cell_type": "markdown",
      "metadata": {
        "id": "IcoJXJT1srLW"
      },
      "source": [
        "<h2>Soal 4: Comparison Operator dengan fungsi</h2>\n",
        "\n",
        "Buatlah sebuah fungsi yang menerima satu argument bertipe data numeric dan menghasilkan sebuah return sebagai berikut :\n",
        "- menghasilkan return 'Aneh' jika nilai dari argument tersebut adalah bilangan ganjil\n",
        "- menghasilkan return 'Tidak Aneh' jika nilai dari argument tersebut adalah bilangan genap dan diantara nilai 2 sampai 5 (2 dan 5 termasuk)\n",
        "- menghasilkan return 'Aneh' jika nilai dari argument tersebut adalah bilangan genap dan diantara nilai 6 sampai 20 (6 dan 20 termasuk)\n",
        "- menghasilkan return 'Tidak Aneh' jika nilai dari argument tersebut adalah bilangan genap dan lebih besari dari 20"
      ]
    },
    {
      "cell_type": "code",
      "execution_count": 8,
      "metadata": {
        "id": "oGXGd_MhdH9D"
      },
      "outputs": [
        {
          "data": {
            "text/plain": [
              "'Aneh'"
            ]
          },
          "execution_count": 8,
          "metadata": {},
          "output_type": "execute_result"
        }
      ],
      "source": [
        "# Buat fungsi\n",
        "def aneh(x):\n",
        "  if x%2!=0:\n",
        "    return 'Aneh'\n",
        "  elif x%2==0 and x>=2 and x<=5:\n",
        "    return 'Tidak Aneh'\n",
        "  elif x%2==0 and x>=6 and x<=20:\n",
        "    return 'Aneh'\n",
        "  elif x%2==0 and x>20:\n",
        "    return 'Tidak Aneh'\n",
        "\n",
        "\n",
        "aneh(5)"
      ]
    },
    {
      "cell_type": "markdown",
      "metadata": {
        "id": "QxKrmLcchhvf"
      },
      "source": [
        "\n",
        "\n",
        "---\n",
        "\n",
        "\n",
        "\n",
        "---\n",
        "\n"
      ]
    },
    {
      "cell_type": "markdown",
      "metadata": {
        "id": "gf0D64xOsrLl"
      },
      "source": [
        "<h2>Soal 5: While Loop dan For Loop</h2>\n",
        "\n",
        "- Apa perbedaan while loop dan for loop?\n",
        "- Berikan contoh sederhana cara menggunakan while loop dan for loop"
      ]
    },
    {
      "cell_type": "markdown",
      "metadata": {
        "id": "cSrE7RbvdXWe"
      },
      "source": [
        "1. Loop merupakan perulangan yang diketahui jumlah perulangan sedangkan while loop merupakan perulangan yang tidak diketahui jumlah perulangan hingga menemukan kondisi yang memenuhi syarat untuk berhenti"
      ]
    },
    {
      "cell_type": "code",
      "execution_count": 9,
      "metadata": {
        "id": "RSf-gg-rdY35"
      },
      "outputs": [
        {
          "name": "stdout",
          "output_type": "stream",
          "text": [
            "Perulangan ke-0\n",
            "Perulangan ke-1\n",
            "Perulangan ke-2\n",
            "Perulangan ke-3\n",
            "Perulangan ke-4\n",
            "Perulangan ke-5\n",
            "Perulangan ke-6\n",
            "Perulangan ke-7\n",
            "Perulangan ke-8\n",
            "Perulangan ke-9\n",
            "Total perulagan: 1\n"
          ]
        }
      ],
      "source": [
        "# jawaban contoh\n",
        "# For Loop\n",
        "ulang = 10\n",
        "\n",
        "for i in range(ulang):\n",
        "    print(f\"Perulangan ke-{i}\")\n",
        "\n",
        "# While Loop\n",
        "jawab = 'ya'\n",
        "hitung = 0\n",
        "\n",
        "while(jawab == 'ya'):\n",
        "    hitung += 1\n",
        "    jawab = input(\"Ulang lagi tidak? \")\n",
        "\n",
        "print(f\"Total perulagan: {hitung}\")"
      ]
    },
    {
      "cell_type": "markdown",
      "metadata": {
        "id": "xJq6aaArhlDN"
      },
      "source": [
        "\n",
        "\n",
        "---\n",
        "\n",
        "\n",
        "\n",
        "---\n",
        "\n"
      ]
    },
    {
      "cell_type": "markdown",
      "metadata": {
        "id": "fZQpBGCgsrLz"
      },
      "source": [
        "<h2>Soal 6: While Loop</h2>\n",
        "    \n",
        "Buatlah sebuah code while loop sebagai berikut :\n",
        "- Buatlah suatu fungsi yang menerima satu input nilai numerik\n",
        "- Dalam fungsi, Buat sebuah while-loop dengan melakukan comparasi terhadap inputan tersebut, dimana looping/iterasi terus berjalan apabila nilai inputan tidak sama dengan 0\n",
        "- Dalam setiap iterasi update nilai variable inputan itu, jika input lebih dari 0, maka kurangi variabel tersebut sebesar 1, selain itu tambahkan 1\n",
        "- print nilai variable input dalam setiap awal iterasi"
      ]
    },
    {
      "cell_type": "code",
      "execution_count": 12,
      "metadata": {
        "id": "uc6N4UmedrU6"
      },
      "outputs": [
        {
          "name": "stdout",
          "output_type": "stream",
          "text": [
            "10\n",
            "9\n",
            "8\n",
            "7\n",
            "6\n",
            "5\n",
            "4\n",
            "3\n",
            "2\n",
            "1\n"
          ]
        }
      ],
      "source": [
        "a = 10\n",
        "\n",
        "def fungsi_while(x):\n",
        "    while x != 0:\n",
        "      print(x)\n",
        "      x-=1\n",
        "\n",
        "fungsi_while(a)"
      ]
    },
    {
      "cell_type": "markdown",
      "metadata": {
        "id": "lKzngRrlsrMD"
      },
      "source": [
        "Expected Output:\n",
        "\n",
        "jika a = 10                           \n",
        "\n",
        "10                                   \n",
        "9                      \n",
        "8   \n",
        "7   \n",
        "6  \n",
        "5  \n",
        "4  \n",
        "3  \n",
        "2  \n",
        "1\n",
        "\n",
        "jika a = -10\n",
        "\n",
        "-10                                   \n",
        "-9                        \n",
        "-8  \n",
        "-7  \n",
        "-6  \n",
        "-5  \n",
        "-4  \n",
        "-3  \n",
        "-2  \n",
        "-1\n"
      ]
    },
    {
      "cell_type": "markdown",
      "metadata": {
        "id": "MhdhusMnhn8L"
      },
      "source": [
        "\n",
        "\n",
        "---\n",
        "\n",
        "\n",
        "\n",
        "---\n",
        "\n"
      ]
    },
    {
      "cell_type": "markdown",
      "metadata": {
        "id": "DnAUJ4TzgmOp"
      },
      "source": [
        "<h2>Soal 7: For Loop</h2>\n",
        "\n",
        "Lengkapi kode untuk menghasilkan suatu output yang diharapkan:\n",
        "\n",
        "\n",
        "\n",
        "\n",
        "\n",
        "*   Cari siswa mana saja yang memiliki nilai lebih dari sama dengan 80. Masukkan kedalam sebuah list. print hasilnya\n",
        "\n",
        "\n",
        "\n",
        "\n"
      ]
    },
    {
      "cell_type": "code",
      "execution_count": 14,
      "metadata": {
        "id": "aeuMIX8_hGCW"
      },
      "outputs": [],
      "source": [
        "data_siswa = [\n",
        "    {\n",
        "        \"nama\":\"Budi\",\n",
        "        \"nilai\": 90\n",
        "    },\n",
        "    {\n",
        "        \"nama\":\"Nina\",\n",
        "        \"nilai\": 78\n",
        "    },\n",
        "    {\n",
        "        \"nama\":\"Rudi\",\n",
        "        \"nilai\": 91\n",
        "    },\n",
        "    {\n",
        "        \"nama\":\"Olivia\",\n",
        "        \"nilai\": 76\n",
        "    },\n",
        "    {\n",
        "        \"nama\":\"Leo\",\n",
        "        \"nilai\": 80\n",
        "    },\n",
        "    {\n",
        "        \"nama\":\"Liam\",\n",
        "        \"nilai\": 67\n",
        "    },\n",
        "    {\n",
        "        \"nama\":\"Sheila\",\n",
        "        \"nilai\": 76\n",
        "    }\n",
        "]"
      ]
    },
    {
      "cell_type": "code",
      "execution_count": 15,
      "metadata": {
        "id": "XlQsAeOchKLP"
      },
      "outputs": [
        {
          "ename": "SyntaxError",
          "evalue": "expected ':' (Temp/ipykernel_1696/2474757176.py, line 3)",
          "output_type": "error",
          "traceback": [
            "\u001b[1;36m  File \u001b[1;32m\"C:\\Users\\Computer\\AppData\\Local\\Temp/ipykernel_1696/2474757176.py\"\u001b[1;36m, line \u001b[1;32m3\u001b[0m\n\u001b[1;33m    if(str(val['nilai']))\u001b[0m\n\u001b[1;37m                         ^\u001b[0m\n\u001b[1;31mSyntaxError\u001b[0m\u001b[1;31m:\u001b[0m expected ':'\n"
          ]
        }
      ],
      "source": [
        "#code here\n",
        "for key, val in data_siswa.items():\n",
        "    if(str(val['nilai']))\n",
        "    print( +val['capital'])"
      ]
    },
    {
      "cell_type": "markdown",
      "metadata": {
        "id": "xIFJBG5PhL_5"
      },
      "source": [
        "Expected output:\n",
        "\n",
        "['Budi', 'Rudi', 'Leo']"
      ]
    },
    {
      "cell_type": "markdown",
      "metadata": {
        "id": "6qKCmZB0hqH9"
      },
      "source": [
        "\n",
        "\n",
        "---\n",
        "\n",
        "\n",
        "\n",
        "---\n",
        "\n"
      ]
    },
    {
      "cell_type": "markdown",
      "metadata": {
        "id": "IWg3Z_zZsrMG"
      },
      "source": [
        "<h2>Soal 8: For Loop Enumerate</h2>\n",
        "    \n",
        "Lengkapi kode untuk menghasilkan suatu output yang di harapkan:\n",
        "\n",
        "- Buatlah sebuah loop dengan mengiterasi sebuah objek list kemudian di kalikan dengan index dari list tersebut dan print hasilnya"
      ]
    },
    {
      "cell_type": "code",
      "execution_count": 13,
      "metadata": {
        "id": "wvxcRiq2gYS9"
      },
      "outputs": [
        {
          "name": "stdout",
          "output_type": "stream",
          "text": [
            "0\n",
            "16\n",
            "22\n",
            "30\n",
            "20\n"
          ]
        }
      ],
      "source": [
        "obj_list= [1, 16, 11, 10, 5]\n",
        "\n",
        "# lengkapi code di bawah\n",
        "for i, val in enumerate(obj_list):\n",
        "    print (i*val)"
      ]
    },
    {
      "cell_type": "markdown",
      "metadata": {
        "id": "OGawROjnsrMU"
      },
      "source": [
        "Expected Output:\n",
        "\n",
        "0\n",
        "\n",
        "16\n",
        "\n",
        "22\n",
        "\n",
        "30\n",
        "\n",
        "20\n"
      ]
    },
    {
      "cell_type": "markdown",
      "metadata": {
        "id": "BEaVi_Z5hror"
      },
      "source": [
        "\n",
        "\n",
        "---\n",
        "\n",
        "\n",
        "\n",
        "---\n",
        "\n"
      ]
    }
  ],
  "metadata": {
    "colab": {
      "collapsed_sections": [],
      "name": " Tugas Hari 4.ipynb",
      "provenance": []
    },
    "kernelspec": {
      "display_name": "Python 3",
      "language": "python",
      "name": "python3"
    },
    "language_info": {
      "codemirror_mode": {
        "name": "ipython",
        "version": 3
      },
      "file_extension": ".py",
      "mimetype": "text/x-python",
      "name": "python",
      "nbconvert_exporter": "python",
      "pygments_lexer": "ipython3",
      "version": "3.10.0"
    }
  },
  "nbformat": 4,
  "nbformat_minor": 0
}
